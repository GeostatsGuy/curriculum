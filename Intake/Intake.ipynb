{
 "cells": [
  {
   "cell_type": "code",
   "execution_count": 1,
   "metadata": {
    "hide_input": true,
    "slideshow": {
     "slide_type": "skip"
    }
   },
   "outputs": [],
   "source": [
    "import intake\n",
    "import seaborn as sns; sns.set()\n",
    "%matplotlib inline"
   ]
  },
  {
   "cell_type": "markdown",
   "metadata": {
    "slideshow": {
     "slide_type": "slide"
    }
   },
   "source": [
    "<table style=\"margin: 0px auto; bgcolor=\"#fff\">\n",
    "    <tr bgcolor=\"#fff\">\n",
    "        <td>\n",
    "            <img src=\"https://intake.readthedocs.io/en/latest/_static/images/logo.png\" alt=\"Intake\" width=150>\n",
    "        </td>\n",
    "    </tr>\n",
    "    <tr>\n",
    "        <td height=\"50\">\n",
    "            <a href=\"https://intake.readthedocs.io\" style=\"font-size: 20px;\">https://intake.readthedocs.io</a>\n",
    "        </td>\n",
    "    </tr>\n",
    "</table>"
   ]
  },
  {
   "cell_type": "markdown",
   "metadata": {
    "slideshow": {
     "slide_type": "slide"
    }
   },
   "source": [
    "# Taking the pain out of data access and distribution\n",
    "\n",
    "[Intake](https://intake.readthedocs.io/en/latest/index.html) is a Python package for loading, investigating, and organizing data.  From the perspective of a **data analyst**, it has the following features\n",
    "\n",
    " * Loads data into containers you already use: NumPy arrays, Pandas/Dask Dataframes, etc.\n",
    " * Reduces boilerplate code\n",
    " * Facilitates reusable workflows\n",
    " * Install datasets as Python packages\n",
    " * \"Self-describing\" data sources\n",
    " * \"Quick look\" plotting"
   ]
  },
  {
   "cell_type": "markdown",
   "metadata": {
    "slideshow": {
     "slide_type": "skip"
    }
   },
   "source": [
    "Below we'll import a built-in *catalog* of data sources from Intake.  We can then list the contents of these data sources. "
   ]
  },
  {
   "cell_type": "code",
   "execution_count": 2,
   "metadata": {
    "slideshow": {
     "slide_type": "subslide"
    }
   },
   "outputs": [
    {
     "data": {
      "text/plain": [
       "['poro_perm',\n",
       " 'production_by_state',\n",
       " 'production_by_api',\n",
       " 'tickers_by_state',\n",
       " 'well_location_by_ticker_and_state',\n",
       " 'well_location_by_api']"
      ]
     },
     "execution_count": 2,
     "metadata": {},
     "output_type": "execute_result"
    }
   ],
   "source": [
    "from intake import cat\n",
    "list(cat)"
   ]
  },
  {
   "cell_type": "markdown",
   "metadata": {
    "slideshow": {
     "slide_type": "skip"
    }
   },
   "source": [
    "Each of the entries in the list above are *data sources*, most of them take parameters as arguments from the user to modify exactly what data gets loaded.  The data sources get the data from remote SQL servers as well as locally installed CSV files.  Exactly where the data comes from is intentionally abstracted from the *data analyst*, freeing them to focus on the workflows that use the data.\n",
    "\n",
    "We'll later show how these data sources have methods that help investigate the user parameters and other descriptions, but for now let's quickly look at an example of loading some data.\n",
    "\n",
    "Here we will load the total production histories (oil, gas, water) from a well identified by the API number '33007000110000'.  This command executes a SQL query to a data base and returns a [Panda](https://pandas.pydata.org/)'s dataframe.\n",
    "\n",
    "In these tutorials, we attempt to not use packages that haven't been introduced yet, and we will cover Panda's in detail later, but we use Intake to load data in essentially every tutorial, you'll have to excuse the premature use of Panda's as well as a few plotting utilities as they are used only for the purposes of demonstrating Intake."
   ]
  },
  {
   "cell_type": "code",
   "execution_count": 3,
   "metadata": {
    "slideshow": {
     "slide_type": "fragment"
    }
   },
   "outputs": [
    {
     "data": {
      "text/html": [
       "<div>\n",
       "<style scoped>\n",
       "    .dataframe tbody tr th:only-of-type {\n",
       "        vertical-align: middle;\n",
       "    }\n",
       "\n",
       "    .dataframe tbody tr th {\n",
       "        vertical-align: top;\n",
       "    }\n",
       "\n",
       "    .dataframe thead th {\n",
       "        text-align: right;\n",
       "    }\n",
       "</style>\n",
       "<table border=\"1\" class=\"dataframe\">\n",
       "  <thead>\n",
       "    <tr style=\"text-align: right;\">\n",
       "      <th></th>\n",
       "      <th>volume_oil_formation_bbls</th>\n",
       "      <th>volume_gas_formation_mcf</th>\n",
       "      <th>volume_water_formation_bbls</th>\n",
       "    </tr>\n",
       "    <tr>\n",
       "      <th>date</th>\n",
       "      <th></th>\n",
       "      <th></th>\n",
       "      <th></th>\n",
       "    </tr>\n",
       "  </thead>\n",
       "  <tbody>\n",
       "    <tr>\n",
       "      <th>2011-09-01</th>\n",
       "      <td>4</td>\n",
       "      <td>0</td>\n",
       "      <td>0</td>\n",
       "    </tr>\n",
       "    <tr>\n",
       "      <th>2011-08-01</th>\n",
       "      <td>36</td>\n",
       "      <td>14</td>\n",
       "      <td>86</td>\n",
       "    </tr>\n",
       "    <tr>\n",
       "      <th>2011-07-01</th>\n",
       "      <td>257</td>\n",
       "      <td>126</td>\n",
       "      <td>852</td>\n",
       "    </tr>\n",
       "    <tr>\n",
       "      <th>2011-06-01</th>\n",
       "      <td>247</td>\n",
       "      <td>109</td>\n",
       "      <td>952</td>\n",
       "    </tr>\n",
       "    <tr>\n",
       "      <th>2011-05-01</th>\n",
       "      <td>41</td>\n",
       "      <td>11</td>\n",
       "      <td>118</td>\n",
       "    </tr>\n",
       "  </tbody>\n",
       "</table>\n",
       "</div>"
      ],
      "text/plain": [
       "            volume_oil_formation_bbls  volume_gas_formation_mcf  \\\n",
       "date                                                              \n",
       "2011-09-01                          4                         0   \n",
       "2011-08-01                         36                        14   \n",
       "2011-07-01                        257                       126   \n",
       "2011-06-01                        247                       109   \n",
       "2011-05-01                         41                        11   \n",
       "\n",
       "            volume_water_formation_bbls  \n",
       "date                                     \n",
       "2011-09-01                            0  \n",
       "2011-08-01                           86  \n",
       "2011-07-01                          852  \n",
       "2011-06-01                          952  \n",
       "2011-05-01                          118  "
      ]
     },
     "execution_count": 3,
     "metadata": {},
     "output_type": "execute_result"
    }
   ],
   "source": [
    "df = cat.production_by_api(api='33007000110000').read()\n",
    "\n",
    "df.set_index(['date']).head()"
   ]
  },
  {
   "cell_type": "markdown",
   "metadata": {
    "slideshow": {
     "slide_type": "slide"
    }
   },
   "source": [
    "# Reduce boilerplate code"
   ]
  },
  {
   "cell_type": "markdown",
   "metadata": {
    "slideshow": {
     "slide_type": "skip"
    }
   },
   "source": [
    "The following code is requried to reproduce the functionality we've demonstrated with a one line command from Intake. The steps here include loading required modules, loading environment variables, formatting the URL for the PostgresSQL database connection, formatting a SQL statement given an API number as an argument to the function `query_api`, and finally, using the [Panda's `read_sql()`](https://pandas.pydata.org/pandas-docs/stable/reference/api/pandas.read_sql.html) function to load the data into a DataFrame object."
   ]
  },
  {
   "cell_type": "code",
   "execution_count": 4,
   "metadata": {
    "slideshow": {
     "slide_type": "-"
    }
   },
   "outputs": [
    {
     "data": {
      "text/html": [
       "<div>\n",
       "<style scoped>\n",
       "    .dataframe tbody tr th:only-of-type {\n",
       "        vertical-align: middle;\n",
       "    }\n",
       "\n",
       "    .dataframe tbody tr th {\n",
       "        vertical-align: top;\n",
       "    }\n",
       "\n",
       "    .dataframe thead th {\n",
       "        text-align: right;\n",
       "    }\n",
       "</style>\n",
       "<table border=\"1\" class=\"dataframe\">\n",
       "  <thead>\n",
       "    <tr style=\"text-align: right;\">\n",
       "      <th></th>\n",
       "      <th>date</th>\n",
       "      <th>volume_oil_formation_bbls</th>\n",
       "      <th>volume_gas_formation_mcf</th>\n",
       "      <th>volume_water_formation_bbls</th>\n",
       "    </tr>\n",
       "  </thead>\n",
       "  <tbody>\n",
       "    <tr>\n",
       "      <th>0</th>\n",
       "      <td>2011-09-01</td>\n",
       "      <td>4</td>\n",
       "      <td>0</td>\n",
       "      <td>0</td>\n",
       "    </tr>\n",
       "    <tr>\n",
       "      <th>1</th>\n",
       "      <td>2011-08-01</td>\n",
       "      <td>36</td>\n",
       "      <td>14</td>\n",
       "      <td>86</td>\n",
       "    </tr>\n",
       "    <tr>\n",
       "      <th>2</th>\n",
       "      <td>2011-07-01</td>\n",
       "      <td>257</td>\n",
       "      <td>126</td>\n",
       "      <td>852</td>\n",
       "    </tr>\n",
       "  </tbody>\n",
       "</table>\n",
       "</div>"
      ],
      "text/plain": [
       "        date  volume_oil_formation_bbls  volume_gas_formation_mcf  \\\n",
       "0 2011-09-01                          4                         0   \n",
       "1 2011-08-01                         36                        14   \n",
       "2 2011-07-01                        257                       126   \n",
       "\n",
       "   volume_water_formation_bbls  \n",
       "0                            0  \n",
       "1                           86  \n",
       "2                          852  "
      ]
     },
     "execution_count": 4,
     "metadata": {},
     "output_type": "execute_result"
    }
   ],
   "source": [
    "import os\n",
    "import pandas as pd\n",
    "\n",
    "os.environ['BAZEAN_POSTGRES_USERNAME'] = 'jfoster'\n",
    "os.environ['BAZEAN_POSTGRES_PASSWORD'] = 'och6Eexe'\n",
    "\n",
    "username = os.environ['BAZEAN_POSTGRES_USERNAME']\n",
    "password = os.environ['BAZEAN_POSTGRES_PASSWORD']\n",
    "\n",
    "engine = 'postgresql://{}:{}@premium-west.bazean.com:5432/db'.format(username, password)\n",
    "\n",
    "def query_api(api):\n",
    "    \"\"\"\n",
    "        Return SQL statement to get production given an API Number\n",
    "    \"\"\"\n",
    "    return \"SELECT date,volume_oil_formation_bbls,\" \\\n",
    "                   \"volume_gas_formation_mcf,\" \\\n",
    "                   \"volume_water_formation_bbls \" \\\n",
    "                   \"FROM public.production_all WHERE api='{}'\".format(api)\n",
    "\n",
    "pd.read_sql(query_api(api='33007000110000'), engine, parse_dates=['date']).head(3)"
   ]
  },
  {
   "cell_type": "markdown",
   "metadata": {
    "slideshow": {
     "slide_type": "fragment"
    }
   },
   "source": [
    "Compare with"
   ]
  },
  {
   "cell_type": "code",
   "execution_count": 5,
   "metadata": {
    "slideshow": {
     "slide_type": "-"
    }
   },
   "outputs": [
    {
     "data": {
      "text/html": [
       "<div>\n",
       "<style scoped>\n",
       "    .dataframe tbody tr th:only-of-type {\n",
       "        vertical-align: middle;\n",
       "    }\n",
       "\n",
       "    .dataframe tbody tr th {\n",
       "        vertical-align: top;\n",
       "    }\n",
       "\n",
       "    .dataframe thead th {\n",
       "        text-align: right;\n",
       "    }\n",
       "</style>\n",
       "<table border=\"1\" class=\"dataframe\">\n",
       "  <thead>\n",
       "    <tr style=\"text-align: right;\">\n",
       "      <th></th>\n",
       "      <th>date</th>\n",
       "      <th>volume_oil_formation_bbls</th>\n",
       "      <th>volume_gas_formation_mcf</th>\n",
       "      <th>volume_water_formation_bbls</th>\n",
       "    </tr>\n",
       "    <tr>\n",
       "      <th>index</th>\n",
       "      <th></th>\n",
       "      <th></th>\n",
       "      <th></th>\n",
       "      <th></th>\n",
       "    </tr>\n",
       "  </thead>\n",
       "  <tbody>\n",
       "    <tr>\n",
       "      <th>0</th>\n",
       "      <td>2011-09-01</td>\n",
       "      <td>4</td>\n",
       "      <td>0</td>\n",
       "      <td>0</td>\n",
       "    </tr>\n",
       "    <tr>\n",
       "      <th>1</th>\n",
       "      <td>2011-08-01</td>\n",
       "      <td>36</td>\n",
       "      <td>14</td>\n",
       "      <td>86</td>\n",
       "    </tr>\n",
       "    <tr>\n",
       "      <th>2</th>\n",
       "      <td>2011-07-01</td>\n",
       "      <td>257</td>\n",
       "      <td>126</td>\n",
       "      <td>852</td>\n",
       "    </tr>\n",
       "  </tbody>\n",
       "</table>\n",
       "</div>"
      ],
      "text/plain": [
       "            date  volume_oil_formation_bbls  volume_gas_formation_mcf  \\\n",
       "index                                                                   \n",
       "0     2011-09-01                          4                         0   \n",
       "1     2011-08-01                         36                        14   \n",
       "2     2011-07-01                        257                       126   \n",
       "\n",
       "       volume_water_formation_bbls  \n",
       "index                               \n",
       "0                                0  \n",
       "1                               86  \n",
       "2                              852  "
      ]
     },
     "execution_count": 5,
     "metadata": {},
     "output_type": "execute_result"
    }
   ],
   "source": [
    "cat.production_by_api(api='33007000110000').read().head(3)"
   ]
  },
  {
   "cell_type": "markdown",
   "metadata": {
    "slideshow": {
     "slide_type": "slide"
    }
   },
   "source": [
    "# Reusable workflows"
   ]
  },
  {
   "cell_type": "markdown",
   "metadata": {
    "slideshow": {
     "slide_type": "skip"
    }
   },
   "source": [
    "Sometimes you may have data that comes from different sources, but you would like to reuse a common workflow to analyize the data.  For example, one set of data from a PostgresSQL database and another set stored in CSV files, the *data engineer* can set up catalogs such that the data has the same structure, and the *data analyst* can use an identical workflow.\n",
    "\n",
    "Below is a simple plotting workflow that takes as arguments an Intake catalog and an API number as arguments and formats a plot to show the production histories of gas and oil for a well identified by the API number."
   ]
  },
  {
   "cell_type": "code",
   "execution_count": 6,
   "metadata": {
    "slideshow": {
     "slide_type": "skip"
    }
   },
   "outputs": [],
   "source": [
    "def my_fancy_plotting_workflow(catalog, api):\n",
    "    \"\"\"\n",
    "       Creates a plot given a dataframe with a column labeled 'date'\n",
    "    \"\"\"\n",
    "    dataframe = catalog.production_by_api(api=api).read()\n",
    "    ax1 = dataframe.set_index(['date']).plot(y=['volume_oil_formation_bbls'])\n",
    "    ax2 = dataframe.set_index(['date']).plot(y=['volume_gas_formation_mcf'], ax=ax1, secondary_y=True)\n",
    "    ax1.set_xlabel('Date')\n",
    "    ax1.set_ylabel('Production (BBLS)')\n",
    "    ax2.set_ylabel('Production (MCF)')\n",
    "    \n",
    "    handles = []\n",
    "    for ax in [ax1, ax2]:\n",
    "        for h,_ in zip(*ax.get_legend_handles_labels()):\n",
    "            handles.append(h)\n",
    "    ax1.legend(handles,['Oil', 'Gas (right)']) \n",
    "    return ax1"
   ]
  },
  {
   "cell_type": "markdown",
   "metadata": {
    "slideshow": {
     "slide_type": "-"
    }
   },
   "source": [
    "Using the same catalog introduced earlier with our plotting function `my_fancy_plotting_workflow()`."
   ]
  },
  {
   "cell_type": "code",
   "execution_count": 7,
   "metadata": {
    "slideshow": {
     "slide_type": "-"
    }
   },
   "outputs": [
    {
     "data": {
      "image/png": "[encoded data removed]",
      "text/plain": [
       "<Figure size 432x288 with 2 Axes>"
      ]
     },
     "metadata": {
      "needs_background": "light"
     },
     "output_type": "display_data"
    }
   ],
   "source": [
    "my_fancy_plotting_workflow(cat, api='33007000110000');"
   ]
  },
  {
   "cell_type": "markdown",
   "metadata": {
    "slideshow": {
     "slide_type": "subslide"
    }
   },
   "source": [
    "## Write to CSV"
   ]
  },
  {
   "cell_type": "markdown",
   "metadata": {
    "slideshow": {
     "slide_type": "skip"
    }
   },
   "source": [
    "Now we'll play data engineer momentarily.  We'll read in the production data from a couple of wells and immediately write them to CSV files stored in a local hidden directory named `.files`.  The detailed syntax of the following is not important at the moment.  Just understand that we are reading data from the PostgresSQL database and then storing  them locally."
   ]
  },
  {
   "cell_type": "code",
   "execution_count": 8,
   "metadata": {
    "slideshow": {
     "slide_type": "-"
    }
   },
   "outputs": [],
   "source": [
    "cat.production_by_api(api='33007000110000').read().to_csv('.files/production_33007000110000.csv', index=False)\n",
    "cat.production_by_api(api='33007000140000').read().to_csv('.files/production_33007000140000.csv', index=False)"
   ]
  },
  {
   "cell_type": "markdown",
   "metadata": {
    "slideshow": {
     "slide_type": "fragment"
    }
   },
   "source": [
    "We can verify the files were written by listing the files in the directory `.files`."
   ]
  },
  {
   "cell_type": "code",
   "execution_count": 9,
   "metadata": {
    "slideshow": {
     "slide_type": "-"
    }
   },
   "outputs": [
    {
     "name": "stdout",
     "output_type": "stream",
     "text": [
      "nd_production.yml              production_33007000140000.csv\r\n",
      "production_33007000110000.csv\r\n"
     ]
    }
   ],
   "source": [
    "ls .files"
   ]
  },
  {
   "cell_type": "markdown",
   "metadata": {
    "slideshow": {
     "slide_type": "fragment"
    }
   },
   "source": [
    "Inspecting the contents of one of the files, by looking at the first 5 lines in the file."
   ]
  },
  {
   "cell_type": "code",
   "execution_count": 10,
   "metadata": {
    "slideshow": {
     "slide_type": "-"
    }
   },
   "outputs": [
    {
     "name": "stdout",
     "output_type": "stream",
     "text": [
      "date,volume_oil_formation_bbls,volume_gas_formation_mcf,volume_water_formation_bbls\r\n",
      "2011-09-01,4,0,0\r\n",
      "2011-08-01,36,14,86\r\n",
      "2011-07-01,257,126,852\r\n",
      "2011-06-01,247,109,952\r\n"
     ]
    }
   ],
   "source": [
    "!head -n 5 .files/production_33007000110000.csv"
   ]
  },
  {
   "cell_type": "markdown",
   "metadata": {
    "slideshow": {
     "slide_type": "subslide"
    }
   },
   "source": [
    "# Use Intake to read CSV file and create a local catalog"
   ]
  },
  {
   "cell_type": "markdown",
   "metadata": {
    "slideshow": {
     "slide_type": "skip"
    }
   },
   "source": [
    "Now we'll use Intake's [`open_csv()`](https://intake.readthedocs.io/en/latest/quickstart.html) function to read the CSV file back into a new catalog called `csv_cat`.  This catalog object has a method `.yaml()` that will produce a description of the catalog using YAML syntax.  We can then minimally edit this output to create a local catalog that we can use for reading in CSV files with an arbitrary API number."
   ]
  },
  {
   "cell_type": "code",
   "execution_count": 11,
   "metadata": {
    "slideshow": {
     "slide_type": "-"
    }
   },
   "outputs": [
    {
     "name": "stdout",
     "output_type": "stream",
     "text": [
      "sources:\n",
      "  csv:\n",
      "    args:\n",
      "      csv_kwargs:\n",
      "        parse_dates:\n",
      "        - date\n",
      "      urlpath: ./files/production_33007000110000.csv\n",
      "    description: ''\n",
      "    driver: intake.source.csv.CSVSource\n",
      "    metadata: {}\n",
      "\n"
     ]
    }
   ],
   "source": [
    "csv_cat = intake.open_csv('./files/production_33007000110000.csv', csv_kwargs={'parse_dates': ['date']})\n",
    "\n",
    "print(csv_cat.yaml())"
   ]
  },
  {
   "cell_type": "markdown",
   "metadata": {
    "slideshow": {
     "slide_type": "subslide"
    }
   },
   "source": [
    "# Edit YAML and write catalog file"
   ]
  },
  {
   "cell_type": "markdown",
   "metadata": {
    "slideshow": {
     "slide_type": "skip"
    }
   },
   "source": [
    "You can inspect the changes between what's above and the edits below.  We rename the data source \"csv\" to \"production_by_api\" and using the replacement syntax `{{}}` create a user parameter `api` that replaces the explicit API number above."
   ]
  },
  {
   "cell_type": "code",
   "execution_count": 12,
   "metadata": {
    "slideshow": {
     "slide_type": "-"
    }
   },
   "outputs": [
    {
     "name": "stdout",
     "output_type": "stream",
     "text": [
      "Overwriting .files/nd_production.yml\n"
     ]
    }
   ],
   "source": [
    "%%file \".files/nd_production.yml\"\n",
    "sources: \n",
    "  production_by_api:\n",
    "    args:\n",
    "      csv_kwargs:\n",
    "        parse_dates:\n",
    "        - date\n",
    "      urlpath: '{{ CATALOG_DIR }}/production_{{api}}.csv'\n",
    "    description: 'Returns production history given an API'\n",
    "    driver: intake.source.csv.CSVSource\n",
    "    metadata: {}"
   ]
  },
  {
   "cell_type": "markdown",
   "metadata": {
    "slideshow": {
     "slide_type": "subslide"
    }
   },
   "source": [
    "# Read in local catalog file and execute workflow"
   ]
  },
  {
   "cell_type": "code",
   "execution_count": 13,
   "metadata": {
    "slideshow": {
     "slide_type": "-"
    }
   },
   "outputs": [
    {
     "data": {
      "text/plain": [
       "['production_by_api']"
      ]
     },
     "execution_count": 13,
     "metadata": {},
     "output_type": "execute_result"
    }
   ],
   "source": [
    "csv_cat = intake.open_catalog(\".files/nd_production.yml\")\n",
    "list(csv_cat)"
   ]
  },
  {
   "cell_type": "code",
   "execution_count": null,
   "metadata": {
    "slideshow": {
     "slide_type": "fragment"
    }
   },
   "outputs": [],
   "source": [
    "my_fancy_plotting_workflow(cat, api='33007000110000');"
   ]
  },
  {
   "cell_type": "markdown",
   "metadata": {
    "slideshow": {
     "slide_type": "slide"
    }
   },
   "source": [
    "# Install data as Python packages"
   ]
  },
  {
   "cell_type": "markdown",
   "metadata": {
    "slideshow": {
     "slide_type": "-"
    }
   },
   "source": [
    "For example, with `conda`\n",
    "\n",
    "```\n",
    "conda install -c daytum data\n",
    "```"
   ]
  },
  {
   "cell_type": "markdown",
   "metadata": {
    "slideshow": {
     "slide_type": "skip"
    }
   },
   "source": [
    "Here we use the package manager `conda` to install a package named \"data\" from the \"daytum\" channel.  This is extremely useful from a data engineer perspective because you can \"version control\" data and take advantage of `conda update`, etc."
   ]
  },
  {
   "cell_type": "markdown",
   "metadata": {
    "slideshow": {
     "slide_type": "slide"
    }
   },
   "source": [
    "# \"Self-describing\" Data\n",
    "\n",
    "The `.describe()` method when called on data sources returns a description, user parameters, and other metadata."
   ]
  },
  {
   "cell_type": "code",
   "execution_count": 14,
   "metadata": {
    "slideshow": {
     "slide_type": "-"
    }
   },
   "outputs": [
    {
     "data": {
      "text/plain": [
       "{'container': 'dataframe',\n",
       " 'description': 'Production history for all wells in a user parameter given state.',\n",
       " 'direct_access': 'forbid',\n",
       " 'user_parameters': [{'name': 'bazean_postgres_username',\n",
       "   'description': 'PostgresSQL username for accessing Bazean database',\n",
       "   'type': 'str',\n",
       "   'default': 'env(BAZEAN_POSTGRES_USERNAME)'},\n",
       "  {'name': 'bazean_postgres_password',\n",
       "   'description': 'PostgresSQL password for accessing Bazean database',\n",
       "   'type': 'str',\n",
       "   'default': 'env(BAZEAN_POSTGRES_PASSWORD)'},\n",
       "  {'name': 'subdomain',\n",
       "   'description': 'Bazean PostgresSQL subdomain name',\n",
       "   'type': 'str',\n",
       "   'default': 'premium-west'},\n",
       "  {'name': 'schema',\n",
       "   'description': 'Bazean PostgresSQL database schema',\n",
       "   'type': 'str',\n",
       "   'default': 'public'},\n",
       "  {'name': 'state',\n",
       "   'description': 'State to query production',\n",
       "   'type': 'str',\n",
       "   'allowed': ['OH',\n",
       "    'MI',\n",
       "    'WV',\n",
       "    'CA',\n",
       "    'ND',\n",
       "    'BC',\n",
       "    'KS',\n",
       "    'MT',\n",
       "    'UT',\n",
       "    'PA',\n",
       "    'AR',\n",
       "    'LA',\n",
       "    'WY',\n",
       "    'OK',\n",
       "    'TX',\n",
       "    'CO',\n",
       "    'NM',\n",
       "    'GM'],\n",
       "   'default': ''}]}"
      ]
     },
     "execution_count": 14,
     "metadata": {},
     "output_type": "execute_result"
    }
   ],
   "source": [
    "cat.production_by_state.describe()"
   ]
  },
  {
   "cell_type": "markdown",
   "metadata": {
    "slideshow": {
     "slide_type": "subslide"
    }
   },
   "source": [
    "# GUI"
   ]
  },
  {
   "cell_type": "markdown",
   "metadata": {
    "slideshow": {
     "slide_type": "skip"
    }
   },
   "source": [
    "There is a built in  GUI which also allows for exploration of data sources.  The search feature is particularly useful."
   ]
  },
  {
   "cell_type": "code",
   "execution_count": 24,
   "metadata": {
    "slideshow": {
     "slide_type": "-"
    }
   },
   "outputs": [
    {
     "data": {
      "application/vnd.jupyter.widget-view+json": {
       "model_id": "ab45eb8c96744871834a1caf439d93bf",
       "version_major": 2,
       "version_minor": 0
      },
      "text/plain": [
       "Intake GUI instance: to get widget to display, you must install ipy/jupyter-widgets, run in a notebook and, in the case of jupyter-lab, install the jlab extension."
      ]
     },
     "metadata": {},
     "output_type": "display_data"
    }
   ],
   "source": [
    "intake.gui"
   ]
  },
  {
   "cell_type": "markdown",
   "metadata": {
    "slideshow": {
     "slide_type": "slide"
    }
   },
   "source": [
    "# Built-in quick look plotting"
   ]
  },
  {
   "cell_type": "markdown",
   "metadata": {
    "slideshow": {
     "slide_type": "skip"
    }
   },
   "source": [
    "If the plotting package [Holoviews](http://holoviews.org/) is installed, you can load quick view plots of the data, much like Panda's.  Line, Bar, Scatter, and several other types of plots are built in, see [the documention](https://intake.readthedocs.io/en/latest/plotting.html) for more information.  The data engineer can define custom plot specifications in the metadata of the catalog.\n",
    "\n",
    "Below is an example of creating a scatter plot with the `poro_perm` data source without any arguments or custimization."
   ]
  },
  {
   "cell_type": "code",
   "execution_count": 26,
   "metadata": {
    "slideshow": {
     "slide_type": "-"
    }
   },
   "outputs": [
    {
     "data": {
      "application/javascript": [
       "\n",
       "// Ugly hack - see HoloViews #2574 for more information\n",
       "if (!(document.getElementById('1454')) && !(document.getElementById('_anim_imgNone'))) {\n",
       "  console.log(\"Creating DOM nodes dynamically for assumed nbconvert export. To generate clean HTML output set HV_DOC_HTML as an environment variable.\")\n",
       "  var htmlObject = document.createElement('div');\n",
       "  htmlObject.innerHTML = `<div id='1454' style='display: table; margin: 0 auto;'>\n",
       "\n",
       "\n",
       "\n",
       "\n",
       "\n",
       "  <div class=\"bk-root\" id=\"1f82ada3-b7c0-4ff9-832a-25b7459d9052\" data-root-id=\"1454\"></div>\n",
       "</div>`;\n",
       "  var scriptTags = document.getElementsByTagName('script');\n",
       "  var parentTag = scriptTags[scriptTags.length-1].parentNode;\n",
       "  if (parentTag.attributes.length && (parentTag.attributes[0].name == 'data-shell-mode')) {\n",
       "    alert('Displaying PyViz objects in JupyterLab requires the jupyterlab_pyviz extension to be installed, install it with:\\n\\n\\tjupyter labextension install @pyviz/jupyterlab_pyviz');\n",
       "  } else {\n",
       "    parentTag.append(htmlObject)\n",
       "  }\n",
       "}\n",
       "(function(root) {\n",
       "  function embed_document(root) {\n",
       "    \n",
       "  var docs_json = {\"67a1d70c-a3a7-425c-89fb-54f328d399e9\":{\"roots\":{\"references\":[{\"attributes\":{\"below\":[{\"id\":\"1462\",\"type\":\"LinearAxis\"}],\"left\":[{\"id\":\"1467\",\"type\":\"LinearAxis\"}],\"min_border_bottom\":10,\"min_border_left\":10,\"min_border_right\":10,\"min_border_top\":10,\"plot_height\":300,\"plot_width\":700,\"renderers\":[{\"id\":\"1462\",\"type\":\"LinearAxis\"},{\"id\":\"1466\",\"type\":\"Grid\"},{\"id\":\"1467\",\"type\":\"LinearAxis\"},{\"id\":\"1471\",\"type\":\"Grid\"},{\"id\":\"1481\",\"type\":\"BoxAnnotation\"},{\"id\":\"1504\",\"type\":\"Legend\"},{\"id\":\"1496\",\"type\":\"GlyphRenderer\"},{\"id\":\"1512\",\"type\":\"GlyphRenderer\"},{\"id\":\"1504\",\"type\":\"Legend\"}],\"right\":[{\"id\":\"1504\",\"type\":\"Legend\"}],\"title\":{\"id\":\"1453\",\"type\":\"Title\"},\"toolbar\":{\"id\":\"1477\",\"type\":\"Toolbar\"},\"x_range\":{\"id\":\"1449\",\"type\":\"Range1d\"},\"x_scale\":{\"id\":\"1458\",\"type\":\"LinearScale\"},\"y_range\":{\"id\":\"1450\",\"type\":\"Range1d\"},\"y_scale\":{\"id\":\"1460\",\"type\":\"LinearScale\"}},\"id\":\"1454\",\"subtype\":\"Figure\",\"type\":\"Plot\"},{\"attributes\":{\"data_source\":{\"id\":\"1506\",\"type\":\"ColumnDataSource\"},\"glyph\":{\"id\":\"1509\",\"type\":\"Scatter\"},\"hover_glyph\":null,\"muted_glyph\":{\"id\":\"1511\",\"type\":\"Scatter\"},\"nonselection_glyph\":{\"id\":\"1510\",\"type\":\"Scatter\"},\"selection_glyph\":null,\"view\":{\"id\":\"1513\",\"type\":\"CDSView\"}},\"id\":\"1512\",\"type\":\"GlyphRenderer\"},{\"attributes\":{\"overlay\":{\"id\":\"1481\",\"type\":\"BoxAnnotation\"}},\"id\":\"1475\",\"type\":\"BoxZoomTool\"},{\"attributes\":{\"fill_alpha\":{\"value\":0.2},\"fill_color\":{\"value\":\"#ff7f0e\"},\"line_alpha\":{\"value\":0.2},\"line_color\":{\"value\":\"#ff7f0e\"},\"size\":{\"units\":\"screen\",\"value\":5.477225575051661},\"x\":{\"field\":\"index\"},\"y\":{\"field\":\"value\"}},\"id\":\"1511\",\"type\":\"Scatter\"},{\"attributes\":{\"data_source\":{\"id\":\"1490\",\"type\":\"ColumnDataSource\"},\"glyph\":{\"id\":\"1493\",\"type\":\"Scatter\"},\"hover_glyph\":null,\"muted_glyph\":{\"id\":\"1495\",\"type\":\"Scatter\"},\"nonselection_glyph\":{\"id\":\"1494\",\"type\":\"Scatter\"},\"selection_glyph\":null,\"view\":{\"id\":\"1497\",\"type\":\"CDSView\"}},\"id\":\"1496\",\"type\":\"GlyphRenderer\"},{\"attributes\":{\"callback\":null,\"end\":383.0,\"reset_end\":383.0,\"reset_start\":0.0,\"tags\":[[[\"index\",\"index\",null]]]},\"id\":\"1449\",\"type\":\"Range1d\"},{\"attributes\":{\"callback\":null,\"end\":289.44,\"reset_end\":289.44,\"reset_start\":0.036000000000000004,\"start\":0.036000000000000004,\"tags\":[[[\"value\",\"value\",null]]]},\"id\":\"1450\",\"type\":\"Range1d\"},{\"attributes\":{\"fill_alpha\":{\"value\":0.1},\"fill_color\":{\"value\":\"#ff7f0e\"},\"line_alpha\":{\"value\":0.1},\"line_color\":{\"value\":\"#ff7f0e\"},\"size\":{\"units\":\"screen\",\"value\":5.477225575051661},\"x\":{\"field\":\"index\"},\"y\":{\"field\":\"value\"}},\"id\":\"1510\",\"type\":\"Scatter\"},{\"attributes\":{},\"id\":\"1472\",\"type\":\"SaveTool\"},{\"attributes\":{},\"id\":\"1507\",\"type\":\"Selection\"},{\"attributes\":{},\"id\":\"1474\",\"type\":\"WheelZoomTool\"},{\"attributes\":{},\"id\":\"1476\",\"type\":\"ResetTool\"},{\"attributes\":{\"fill_alpha\":{\"value\":0.1},\"fill_color\":{\"value\":\"#1f77b4\"},\"line_alpha\":{\"value\":0.1},\"line_color\":{\"value\":\"#1f77b4\"},\"size\":{\"units\":\"screen\",\"value\":5.477225575051661},\"x\":{\"field\":\"index\"},\"y\":{\"field\":\"value\"}},\"id\":\"1494\",\"type\":\"Scatter\"},{\"attributes\":{},\"id\":\"1458\",\"type\":\"LinearScale\"},{\"attributes\":{\"fill_alpha\":{\"value\":0.2},\"fill_color\":{\"value\":\"#1f77b4\"},\"line_alpha\":{\"value\":0.2},\"line_color\":{\"value\":\"#1f77b4\"},\"size\":{\"units\":\"screen\",\"value\":5.477225575051661},\"x\":{\"field\":\"index\"},\"y\":{\"field\":\"value\"}},\"id\":\"1495\",\"type\":\"Scatter\"},{\"attributes\":{},\"id\":\"1460\",\"type\":\"LinearScale\"},{\"attributes\":{\"dimension\":1,\"grid_line_color\":{\"value\":null},\"plot\":{\"id\":\"1454\",\"subtype\":\"Figure\",\"type\":\"Plot\"},\"ticker\":{\"id\":\"1468\",\"type\":\"BasicTicker\"}},\"id\":\"1471\",\"type\":\"Grid\"},{\"attributes\":{},\"id\":\"1489\",\"type\":\"BasicTickFormatter\"},{\"attributes\":{\"source\":{\"id\":\"1490\",\"type\":\"ColumnDataSource\"}},\"id\":\"1497\",\"type\":\"CDSView\"},{\"attributes\":{},\"id\":\"1491\",\"type\":\"Selection\"},{\"attributes\":{\"axis_label\":\"\",\"bounds\":\"auto\",\"formatter\":{\"id\":\"1487\",\"type\":\"BasicTickFormatter\"},\"major_label_orientation\":\"horizontal\",\"plot\":{\"id\":\"1454\",\"subtype\":\"Figure\",\"type\":\"Plot\"},\"ticker\":{\"id\":\"1463\",\"type\":\"BasicTicker\"}},\"id\":\"1462\",\"type\":\"LinearAxis\"},{\"attributes\":{},\"id\":\"1468\",\"type\":\"BasicTicker\"},{\"attributes\":{\"grid_line_color\":{\"value\":null},\"plot\":{\"id\":\"1454\",\"subtype\":\"Figure\",\"type\":\"Plot\"},\"ticker\":{\"id\":\"1463\",\"type\":\"BasicTicker\"}},\"id\":\"1466\",\"type\":\"Grid\"},{\"attributes\":{},\"id\":\"1487\",\"type\":\"BasicTickFormatter\"},{\"attributes\":{\"plot\":null,\"text\":\"\",\"text_color\":{\"value\":\"black\"},\"text_font_size\":{\"value\":\"12pt\"}},\"id\":\"1453\",\"type\":\"Title\"},{\"attributes\":{\"callback\":null,\"data\":{\"Variable\":[\"porosity\",\"porosity\",\"porosity\",\"porosity\",\"porosity\",\"porosity\",\"porosity\",\"porosity\",\"porosity\",\"porosity\",\"porosity\",\"porosity\",\"porosity\",\"porosity\",\"porosity\",\"porosity\",\"porosity\",\"porosity\",\"porosity\",\"porosity\",\"porosity\",\"porosity\",\"porosity\",\"porosity\",\"porosity\",\"porosity\",\"porosity\",\"porosity\",\"porosity\",\"porosity\",\"porosity\",\"porosity\",\"porosity\",\"porosity\",\"porosity\",\"porosity\",\"porosity\",\"porosity\",\"porosity\",\"porosity\",\"porosity\",\"porosity\",\"porosity\",\"porosity\",\"porosity\",\"porosity\",\"porosity\",\"porosity\",\"porosity\",\"porosity\",\"porosity\",\"porosity\",\"porosity\",\"porosity\",\"porosity\",\"porosity\",\"porosity\",\"porosity\",\"porosity\",\"porosity\",\"porosity\",\"porosity\",\"porosity\",\"porosity\",\"porosity\",\"porosity\",\"porosity\",\"porosity\",\"porosity\",\"porosity\",\"porosity\",\"porosity\",\"porosity\",\"porosity\",\"porosity\",\"porosity\",\"porosity\",\"porosity\",\"porosity\",\"porosity\",\"porosity\",\"porosity\",\"porosity\",\"porosity\",\"porosity\",\"porosity\",\"porosity\",\"porosity\",\"porosity\",\"porosity\",\"porosity\",\"porosity\",\"porosity\",\"porosity\",\"porosity\",\"porosity\",\"porosity\",\"porosity\",\"porosity\",\"porosity\",\"porosity\",\"porosity\",\"porosity\",\"porosity\",\"porosity\",\"porosity\",\"porosity\",\"porosity\",\"porosity\",\"porosity\",\"porosity\",\"porosity\",\"porosity\",\"porosity\",\"porosity\",\"porosity\",\"porosity\",\"porosity\",\"porosity\",\"porosity\",\"porosity\",\"porosity\",\"porosity\",\"porosity\",\"porosity\",\"porosity\",\"porosity\",\"porosity\",\"porosity\",\"porosity\",\"porosity\",\"porosity\",\"porosity\",\"porosity\",\"porosity\",\"porosity\",\"porosity\",\"porosity\",\"porosity\",\"porosity\",\"porosity\",\"porosity\",\"porosity\",\"porosity\",\"porosity\",\"porosity\",\"porosity\",\"porosity\",\"porosity\",\"porosity\",\"porosity\",\"porosity\",\"porosity\",\"porosity\",\"porosity\",\"porosity\",\"porosity\",\"porosity\",\"porosity\",\"porosity\",\"porosity\",\"porosity\",\"porosity\",\"porosity\",\"porosity\",\"porosity\",\"porosity\",\"porosity\",\"porosity\",\"porosity\",\"porosity\",\"porosity\",\"porosity\",\"porosity\",\"porosity\",\"porosity\",\"porosity\",\"porosity\",\"porosity\",\"porosity\",\"porosity\",\"porosity\",\"porosity\",\"porosity\",\"porosity\",\"porosity\",\"porosity\",\"porosity\",\"porosity\",\"porosity\",\"porosity\",\"porosity\",\"porosity\",\"porosity\",\"porosity\",\"porosity\",\"porosity\",\"porosity\",\"porosity\",\"porosity\",\"porosity\",\"porosity\",\"porosity\",\"porosity\",\"porosity\",\"porosity\",\"porosity\",\"porosity\",\"porosity\",\"porosity\",\"porosity\",\"porosity\",\"porosity\",\"porosity\",\"porosity\",\"porosity\",\"porosity\",\"porosity\",\"porosity\",\"porosity\",\"porosity\",\"porosity\",\"porosity\",\"porosity\",\"porosity\",\"porosity\",\"porosity\",\"porosity\",\"porosity\",\"porosity\",\"porosity\",\"porosity\",\"porosity\",\"porosity\",\"porosity\",\"porosity\",\"porosity\",\"porosity\",\"porosity\",\"porosity\",\"porosity\",\"porosity\",\"porosity\",\"porosity\",\"porosity\",\"porosity\",\"porosity\",\"porosity\",\"porosity\",\"porosity\",\"porosity\",\"porosity\",\"porosity\",\"porosity\",\"porosity\",\"porosity\",\"porosity\",\"porosity\",\"porosity\",\"porosity\",\"porosity\",\"porosity\",\"porosity\",\"porosity\",\"porosity\",\"porosity\",\"porosity\",\"porosity\",\"porosity\",\"porosity\",\"porosity\",\"porosity\",\"porosity\",\"porosity\",\"porosity\",\"porosity\",\"porosity\",\"porosity\",\"porosity\",\"porosity\",\"porosity\",\"porosity\",\"porosity\",\"porosity\",\"porosity\",\"porosity\",\"porosity\",\"porosity\",\"porosity\",\"porosity\",\"porosity\",\"porosity\",\"porosity\",\"porosity\",\"porosity\",\"porosity\",\"porosity\",\"porosity\",\"porosity\",\"porosity\",\"porosity\",\"porosity\",\"porosity\",\"porosity\",\"porosity\",\"porosity\",\"porosity\",\"porosity\",\"porosity\",\"porosity\",\"porosity\",\"porosity\",\"porosity\",\"porosity\",\"porosity\",\"porosity\",\"porosity\",\"porosity\",\"porosity\",\"porosity\",\"porosity\",\"porosity\",\"porosity\",\"porosity\",\"porosity\",\"porosity\",\"porosity\",\"porosity\",\"porosity\",\"porosity\",\"porosity\",\"porosity\",\"porosity\",\"porosity\",\"porosity\",\"porosity\",\"porosity\",\"porosity\",\"porosity\",\"porosity\",\"porosity\",\"porosity\",\"porosity\",\"porosity\",\"porosity\",\"porosity\",\"porosity\",\"porosity\",\"porosity\",\"porosity\",\"porosity\",\"porosity\",\"porosity\",\"porosity\",\"porosity\",\"porosity\",\"porosity\",\"porosity\",\"porosity\",\"porosity\",\"porosity\",\"porosity\",\"porosity\",\"porosity\",\"porosity\",\"porosity\",\"porosity\",\"porosity\",\"porosity\",\"porosity\",\"porosity\",\"porosity\",\"porosity\",\"porosity\",\"porosity\",\"porosity\",\"porosity\",\"porosity\",\"porosity\",\"porosity\",\"porosity\",\"porosity\",\"porosity\",\"porosity\"],\"index\":[0,1,2,3,4,5,6,7,8,9,10,11,12,13,14,15,16,17,18,19,20,21,22,23,24,25,26,27,28,29,30,31,32,33,34,35,36,37,38,39,40,41,42,43,44,45,46,47,48,49,50,51,52,53,54,55,56,57,58,59,60,61,62,63,64,65,66,67,68,69,70,71,72,73,74,75,76,77,78,79,80,81,82,83,84,85,86,87,88,89,90,91,92,93,94,95,96,97,98,99,100,101,102,103,104,105,106,107,108,109,110,111,112,113,114,115,116,117,118,119,120,121,122,123,124,125,126,127,128,129,130,131,132,133,134,135,136,137,138,139,140,141,142,143,144,145,146,147,148,149,150,151,152,153,154,155,156,157,158,159,160,161,162,163,164,165,166,167,168,169,170,171,172,173,174,175,176,177,178,179,180,181,182,183,184,185,186,187,188,189,190,191,192,193,194,195,196,197,198,199,200,201,202,203,204,205,206,207,208,209,210,211,212,213,214,215,216,217,218,219,220,221,222,223,224,225,226,227,228,229,230,231,232,233,234,235,236,237,238,239,240,241,242,243,244,245,246,247,248,249,250,251,252,253,254,255,256,257,258,259,260,261,262,263,264,265,266,267,268,269,270,271,272,273,274,275,276,277,278,279,280,281,282,283,284,285,286,287,288,289,290,291,292,293,294,295,296,297,298,299,300,301,302,303,304,305,306,307,308,309,310,311,312,313,314,315,316,317,318,319,320,321,322,323,324,325,326,327,328,329,330,331,332,333,334,335,336,337,338,339,340,341,342,343,344,345,346,347,348,349,350,351,352,353,354,355,356,357,358,359,360,361,362,363,364,365,366,367,368,369,370,371,372,373,374,375,376,377,378,379,380,381,382,383],\"value\":{\"__ndarray__\":\"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\",\"dtype\":\"float64\",\"shape\":[384]}},\"selected\":{\"id\":\"1491\",\"type\":\"Selection\"},\"selection_policy\":{\"id\":\"1520\",\"type\":\"UnionRenderers\"}},\"id\":\"1490\",\"type\":\"ColumnDataSource\"},{\"attributes\":{\"label\":{\"value\":\"porosity\"},\"renderers\":[{\"id\":\"1496\",\"type\":\"GlyphRenderer\"}]},\"id\":\"1505\",\"type\":\"LegendItem\"},{\"attributes\":{},\"id\":\"1520\",\"type\":\"UnionRenderers\"},{\"attributes\":{\"callback\":null,\"data\":{\"Variable\":[\"permeability\",\"permeability\",\"permeability\",\"permeability\",\"permeability\",\"permeability\",\"permeability\",\"permeability\",\"permeability\",\"permeability\",\"permeability\",\"permeability\",\"permeability\",\"permeability\",\"permeability\",\"permeability\",\"permeability\",\"permeability\",\"permeability\",\"permeability\",\"permeability\",\"permeability\",\"permeability\",\"permeability\",\"permeability\",\"permeability\",\"permeability\",\"permeability\",\"permeability\",\"permeability\",\"permeability\",\"permeability\",\"permeability\",\"permeability\",\"permeability\",\"permeability\",\"permeability\",\"permeability\",\"permeability\",\"permeability\",\"permeability\",\"permeability\",\"permeability\",\"permeability\",\"permeability\",\"permeability\",\"permeability\",\"permeability\",\"permeability\",\"permeability\",\"permeability\",\"permeability\",\"permeability\",\"permeability\",\"permeability\",\"permeability\",\"permeability\",\"permeability\",\"permeability\",\"permeability\",\"permeability\",\"permeability\",\"permeability\",\"permeability\",\"permeability\",\"permeability\",\"permeability\",\"permeability\",\"permeability\",\"permeability\",\"permeability\",\"permeability\",\"permeability\",\"permeability\",\"permeability\",\"permeability\",\"permeability\",\"permeability\",\"permeability\",\"permeability\",\"permeability\",\"permeability\",\"permeability\",\"permeability\",\"permeability\",\"permeability\",\"permeability\",\"permeability\",\"permeability\",\"permeability\",\"permeability\",\"permeability\",\"permeability\",\"permeability\",\"permeability\",\"permeability\",\"permeability\",\"permeability\",\"permeability\",\"permeability\",\"permeability\",\"permeability\",\"permeability\",\"permeability\",\"permeability\",\"permeability\",\"permeability\",\"permeability\",\"permeability\",\"permeability\",\"permeability\",\"permeability\",\"permeability\",\"permeability\",\"permeability\",\"permeability\",\"permeability\",\"permeability\",\"permeability\",\"permeability\",\"permeability\",\"permeability\",\"permeability\",\"permeability\",\"permeability\",\"permeability\",\"permeability\",\"permeability\",\"permeability\",\"permeability\",\"permeability\",\"permeability\",\"permeability\",\"permeability\",\"permeability\",\"permeability\",\"permeability\",\"permeability\",\"permeability\",\"permeability\",\"permeability\",\"permeability\",\"permeability\",\"permeability\",\"permeability\",\"permeability\",\"permeability\",\"permeability\",\"permeability\",\"permeability\",\"permeability\",\"permeability\",\"permeability\",\"permeability\",\"permeability\",\"permeability\",\"permeability\",\"permeability\",\"permeability\",\"permeability\",\"permeability\",\"permeability\",\"permeability\",\"permeability\",\"permeability\",\"permeability\",\"permeability\",\"permeability\",\"permeability\",\"permeability\",\"permeability\",\"permeability\",\"permeability\",\"permeability\",\"permeability\",\"permeability\",\"permeability\",\"permeability\",\"permeability\",\"permeability\",\"permeability\",\"permeability\",\"permeability\",\"permeability\",\"permeability\",\"permeability\",\"permeability\",\"permeability\",\"permeability\",\"permeability\",\"permeability\",\"permeability\",\"permeability\",\"permeability\",\"permeability\",\"permeability\",\"permeability\",\"permeability\",\"permeability\",\"permeability\",\"permeability\",\"permeability\",\"permeability\",\"permeability\",\"permeability\",\"permeability\",\"permeability\",\"permeability\",\"permeability\",\"permeability\",\"permeability\",\"permeability\",\"permeability\",\"permeability\",\"permeability\",\"permeability\",\"permeability\",\"permeability\",\"permeability\",\"permeability\",\"permeability\",\"permeability\",\"permeability\",\"permeability\",\"permeability\",\"permeability\",\"permeability\",\"permeability\",\"permeability\",\"permeability\",\"permeability\",\"permeability\",\"permeability\",\"permeability\",\"permeability\",\"permeability\",\"permeability\",\"permeability\",\"permeability\",\"permeability\",\"permeability\",\"permeability\",\"permeability\",\"permeability\",\"permeability\",\"permeability\",\"permeability\",\"permeability\",\"permeability\",\"permeability\",\"permeability\",\"permeability\",\"permeability\",\"permeability\",\"permeability\",\"permeability\",\"permeability\",\"permeability\",\"permeability\",\"permeability\",\"permeability\",\"permeability\",\"permeability\",\"permeability\",\"permeability\",\"permeability\",\"permeability\",\"permeability\",\"permeability\",\"permeability\",\"permeability\",\"permeability\",\"permeability\",\"permeability\",\"permeability\",\"permeability\",\"permeability\",\"permeability\",\"permeability\",\"permeability\",\"permeability\",\"permeability\",\"permeability\",\"permeability\",\"permeability\",\"permeability\",\"permeability\",\"permeability\",\"permeability\",\"permeability\",\"permeability\",\"permeability\",\"permeability\",\"permeability\",\"permeability\",\"permeability\",\"permeability\",\"permeability\",\"permeability\",\"permeability\",\"permeability\",\"permeability\",\"permeability\",\"permeability\",\"permeability\",\"permeability\",\"permeability\",\"permeability\",\"permeability\",\"permeability\",\"permeability\",\"permeability\",\"permeability\",\"permeability\",\"permeability\",\"permeability\",\"permeability\",\"permeability\",\"permeability\",\"permeability\",\"permeability\",\"permeability\",\"permeability\",\"permeability\",\"permeability\",\"permeability\",\"permeability\",\"permeability\",\"permeability\",\"permeability\",\"permeability\",\"permeability\",\"permeability\",\"permeability\",\"permeability\",\"permeability\",\"permeability\",\"permeability\",\"permeability\",\"permeability\",\"permeability\",\"permeability\",\"permeability\",\"permeability\",\"permeability\",\"permeability\",\"permeability\",\"permeability\",\"permeability\",\"permeability\",\"permeability\",\"permeability\",\"permeability\",\"permeability\",\"permeability\",\"permeability\",\"permeability\",\"permeability\",\"permeability\",\"permeability\",\"permeability\",\"permeability\",\"permeability\",\"permeability\",\"permeability\",\"permeability\",\"permeability\",\"permeability\",\"permeability\",\"permeability\",\"permeability\",\"permeability\",\"permeability\",\"permeability\",\"permeability\",\"permeability\",\"permeability\",\"permeability\",\"permeability\",\"permeability\",\"permeability\",\"permeability\",\"permeability\",\"permeability\"],\"index\":[0,1,2,3,4,5,6,7,8,9,10,11,12,13,14,15,16,17,18,19,20,21,22,23,24,25,26,27,28,29,30,31,32,33,34,35,36,37,38,39,40,41,42,43,44,45,46,47,48,49,50,51,52,53,54,55,56,57,58,59,60,61,62,63,64,65,66,67,68,69,70,71,72,73,74,75,76,77,78,79,80,81,82,83,84,85,86,87,88,89,90,91,92,93,94,95,96,97,98,99,100,101,102,103,104,105,106,107,108,109,110,111,112,113,114,115,116,117,118,119,120,121,122,123,124,125,126,127,128,129,130,131,132,133,134,135,136,137,138,139,140,141,142,143,144,145,146,147,148,149,150,151,152,153,154,155,156,157,158,159,160,161,162,163,164,165,166,167,168,169,170,171,172,173,174,175,176,177,178,179,180,181,182,183,184,185,186,187,188,189,190,191,192,193,194,195,196,197,198,199,200,201,202,203,204,205,206,207,208,209,210,211,212,213,214,215,216,217,218,219,220,221,222,223,224,225,226,227,228,229,230,231,232,233,234,235,236,237,238,239,240,241,242,243,244,245,246,247,248,249,250,251,252,253,254,255,256,257,258,259,260,261,262,263,264,265,266,267,268,269,270,271,272,273,274,275,276,277,278,279,280,281,282,283,284,285,286,287,288,289,290,291,292,293,294,295,296,297,298,299,300,301,302,303,304,305,306,307,308,309,310,311,312,313,314,315,316,317,318,319,320,321,322,323,324,325,326,327,328,329,330,331,332,333,334,335,336,337,338,339,340,341,342,343,344,345,346,347,348,349,350,351,352,353,354,355,356,357,358,359,360,361,362,363,364,365,366,367,368,369,370,371,372,373,374,375,376,377,378,379,380,381,382,383],\"value\":{\"__ndarray__\":\"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\",\"dtype\":\"float64\",\"shape\":[384]}},\"selected\":{\"id\":\"1507\",\"type\":\"Selection\"},\"selection_policy\":{\"id\":\"1531\",\"type\":\"UnionRenderers\"}},\"id\":\"1506\",\"type\":\"ColumnDataSource\"},{\"attributes\":{\"fill_color\":{\"value\":\"#ff7f0e\"},\"line_color\":{\"value\":\"#ff7f0e\"},\"size\":{\"units\":\"screen\",\"value\":5.477225575051661},\"x\":{\"field\":\"index\"},\"y\":{\"field\":\"value\"}},\"id\":\"1509\",\"type\":\"Scatter\"},{\"attributes\":{},\"id\":\"1531\",\"type\":\"UnionRenderers\"},{\"attributes\":{\"active_drag\":\"auto\",\"active_inspect\":\"auto\",\"active_multi\":null,\"active_scroll\":\"auto\",\"active_tap\":\"auto\",\"tools\":[{\"id\":\"1451\",\"type\":\"HoverTool\"},{\"id\":\"1472\",\"type\":\"SaveTool\"},{\"id\":\"1473\",\"type\":\"PanTool\"},{\"id\":\"1474\",\"type\":\"WheelZoomTool\"},{\"id\":\"1475\",\"type\":\"BoxZoomTool\"},{\"id\":\"1476\",\"type\":\"ResetTool\"}]},\"id\":\"1477\",\"type\":\"Toolbar\"},{\"attributes\":{\"label\":{\"value\":\"permeability\"},\"renderers\":[{\"id\":\"1512\",\"type\":\"GlyphRenderer\"}]},\"id\":\"1522\",\"type\":\"LegendItem\"},{\"attributes\":{},\"id\":\"1463\",\"type\":\"BasicTicker\"},{\"attributes\":{\"axis_label\":\"\",\"bounds\":\"auto\",\"formatter\":{\"id\":\"1489\",\"type\":\"BasicTickFormatter\"},\"major_label_orientation\":\"horizontal\",\"plot\":{\"id\":\"1454\",\"subtype\":\"Figure\",\"type\":\"Plot\"},\"ticker\":{\"id\":\"1468\",\"type\":\"BasicTicker\"}},\"id\":\"1467\",\"type\":\"LinearAxis\"},{\"attributes\":{\"bottom_units\":\"screen\",\"fill_alpha\":{\"value\":0.5},\"fill_color\":{\"value\":\"lightgrey\"},\"left_units\":\"screen\",\"level\":\"overlay\",\"line_alpha\":{\"value\":1.0},\"line_color\":{\"value\":\"black\"},\"line_dash\":[4,4],\"line_width\":{\"value\":2},\"plot\":null,\"render_mode\":\"css\",\"right_units\":\"screen\",\"top_units\":\"screen\"},\"id\":\"1481\",\"type\":\"BoxAnnotation\"},{\"attributes\":{},\"id\":\"1473\",\"type\":\"PanTool\"},{\"attributes\":{\"fill_color\":{\"value\":\"#1f77b4\"},\"line_color\":{\"value\":\"#1f77b4\"},\"size\":{\"units\":\"screen\",\"value\":5.477225575051661},\"x\":{\"field\":\"index\"},\"y\":{\"field\":\"value\"}},\"id\":\"1493\",\"type\":\"Scatter\"},{\"attributes\":{\"callback\":null,\"renderers\":[{\"id\":\"1496\",\"type\":\"GlyphRenderer\"},{\"id\":\"1512\",\"type\":\"GlyphRenderer\"}],\"tooltips\":[[\"Variable\",\"@{Variable}\"],[\"index\",\"@{index}\"],[\"value\",\"@{value}\"]]},\"id\":\"1451\",\"type\":\"HoverTool\"},{\"attributes\":{\"click_policy\":\"mute\",\"items\":[{\"id\":\"1505\",\"type\":\"LegendItem\"},{\"id\":\"1522\",\"type\":\"LegendItem\"}],\"location\":[0,0],\"plot\":{\"id\":\"1454\",\"subtype\":\"Figure\",\"type\":\"Plot\"}},\"id\":\"1504\",\"type\":\"Legend\"},{\"attributes\":{\"source\":{\"id\":\"1506\",\"type\":\"ColumnDataSource\"}},\"id\":\"1513\",\"type\":\"CDSView\"}],\"root_ids\":[\"1454\"]},\"title\":\"Bokeh Application\",\"version\":\"1.0.4\"}};\n",
       "  var render_items = [{\"docid\":\"67a1d70c-a3a7-425c-89fb-54f328d399e9\",\"roots\":{\"1454\":\"1f82ada3-b7c0-4ff9-832a-25b7459d9052\"}}];\n",
       "  root.Bokeh.embed.embed_items_notebook(docs_json, render_items);\n",
       "\n",
       "  }\n",
       "  if (root.Bokeh !== undefined) {\n",
       "    embed_document(root);\n",
       "  } else {\n",
       "    var attempts = 0;\n",
       "    var timer = setInterval(function(root) {\n",
       "      if (root.Bokeh !== undefined) {\n",
       "        embed_document(root);\n",
       "        clearInterval(timer);\n",
       "      }\n",
       "      attempts++;\n",
       "      if (attempts > 100) {\n",
       "        console.log(\"Bokeh: ERROR: Unable to run BokehJS code because BokehJS library is missing\");\n",
       "        clearInterval(timer);\n",
       "      }\n",
       "    }, 10, root)\n",
       "  }\n",
       "})(window);"
      ],
      "application/vnd.holoviews_exec.v0+json": "",
      "text/html": [
       "<div id='1454' style='display: table; margin: 0 auto;'>\n",
       "\n",
       "\n",
       "\n",
       "\n",
       "\n",
       "  <div class=\"bk-root\" id=\"1f82ada3-b7c0-4ff9-832a-25b7459d9052\" data-root-id=\"1454\"></div>\n",
       "</div>"
      ],
      "text/plain": [
       ":NdOverlay   [Variable]\n",
       "   :Scatter   [index]   (value)"
      ]
     },
     "execution_count": 26,
     "metadata": {
      "application/vnd.holoviews_exec.v0+json": {
       "id": "1454"
      }
     },
     "output_type": "execute_result"
    }
   ],
   "source": [
    "import hvplot.intake\n",
    "\n",
    "cat.poro_perm.plot.scatter()"
   ]
  },
  {
   "cell_type": "markdown",
   "metadata": {
    "slideshow": {
     "slide_type": "skip"
    }
   },
   "source": [
    "A more useful plot is defined as `my_scatter()` in the catalog."
   ]
  },
  {
   "cell_type": "code",
   "execution_count": 17,
   "metadata": {
    "slideshow": {
     "slide_type": "skip"
    }
   },
   "outputs": [
    {
     "data": {
      "application/javascript": [
       "\n",
       "// Ugly hack - see HoloViews #2574 for more information\n",
       "if (!(document.getElementById('1229')) && !(document.getElementById('_anim_imgNone'))) {\n",
       "  console.log(\"Creating DOM nodes dynamically for assumed nbconvert export. To generate clean HTML output set HV_DOC_HTML as an environment variable.\")\n",
       "  var htmlObject = document.createElement('div');\n",
       "  htmlObject.innerHTML = `<div id='1229' style='display: table; margin: 0 auto;'>\n",
       "\n",
       "\n",
       "\n",
       "\n",
       "\n",
       "  <div class=\"bk-root\" id=\"47dadd33-e07c-4df5-9388-f4e8a8aac969\" data-root-id=\"1229\"></div>\n",
       "</div>`;\n",
       "  var scriptTags = document.getElementsByTagName('script');\n",
       "  var parentTag = scriptTags[scriptTags.length-1].parentNode;\n",
       "  if (parentTag.attributes.length && (parentTag.attributes[0].name == 'data-shell-mode')) {\n",
       "    alert('Displaying PyViz objects in JupyterLab requires the jupyterlab_pyviz extension to be installed, install it with:\\n\\n\\tjupyter labextension install @pyviz/jupyterlab_pyviz');\n",
       "  } else {\n",
       "    parentTag.append(htmlObject)\n",
       "  }\n",
       "}\n",
       "(function(root) {\n",
       "  function embed_document(root) {\n",
       "    \n",
       "  var docs_json = {\"5ae9b09d-50dc-45d6-89bf-c08b94fe1286\":{\"roots\":{\"references\":[{\"attributes\":{\"below\":[{\"id\":\"1237\",\"type\":\"LinearAxis\"}],\"left\":[{\"id\":\"1242\",\"type\":\"LinearAxis\"}],\"min_border_bottom\":10,\"min_border_left\":10,\"min_border_right\":10,\"min_border_top\":10,\"plot_width\":800,\"renderers\":[{\"id\":\"1237\",\"type\":\"LinearAxis\"},{\"id\":\"1241\",\"type\":\"Grid\"},{\"id\":\"1242\",\"type\":\"LinearAxis\"},{\"id\":\"1246\",\"type\":\"Grid\"},{\"id\":\"1256\",\"type\":\"BoxAnnotation\"},{\"id\":\"1267\",\"type\":\"GlyphRenderer\"}],\"title\":{\"id\":\"1228\",\"type\":\"Title\"},\"toolbar\":{\"id\":\"1252\",\"type\":\"Toolbar\"},\"x_range\":{\"id\":\"1225\",\"type\":\"Range1d\"},\"x_scale\":{\"id\":\"1233\",\"type\":\"LinearScale\"},\"y_range\":{\"id\":\"1226\",\"type\":\"Range1d\"},\"y_scale\":{\"id\":\"1235\",\"type\":\"LinearScale\"}},\"id\":\"1229\",\"subtype\":\"Figure\",\"type\":\"Plot\"},{\"attributes\":{},\"id\":\"1247\",\"type\":\"SaveTool\"},{\"attributes\":{},\"id\":\"1248\",\"type\":\"PanTool\"},{\"attributes\":{\"source\":{\"id\":\"1261\",\"type\":\"ColumnDataSource\"}},\"id\":\"1268\",\"type\":\"CDSView\"},{\"attributes\":{\"dimension\":1,\"grid_line_color\":{\"value\":null},\"plot\":{\"id\":\"1229\",\"subtype\":\"Figure\",\"type\":\"Plot\"},\"ticker\":{\"id\":\"1243\",\"type\":\"BasicTicker\"}},\"id\":\"1246\",\"type\":\"Grid\"},{\"attributes\":{},\"id\":\"1262\",\"type\":\"Selection\"},{\"attributes\":{},\"id\":\"1272\",\"type\":\"BasicTickFormatter\"},{\"attributes\":{\"fill_alpha\":{\"value\":0.2},\"fill_color\":{\"value\":\"#1f77b4\"},\"line_alpha\":{\"value\":0.2},\"line_color\":{\"value\":\"#1f77b4\"},\"size\":{\"units\":\"screen\",\"value\":5.477225575051661},\"x\":{\"field\":\"porosity\"},\"y\":{\"field\":\"permeability\"}},\"id\":\"1266\",\"type\":\"Scatter\"},{\"attributes\":{\"data_source\":{\"id\":\"1261\",\"type\":\"ColumnDataSource\"},\"glyph\":{\"id\":\"1264\",\"type\":\"Scatter\"},\"hover_glyph\":null,\"muted_glyph\":{\"id\":\"1266\",\"type\":\"Scatter\"},\"nonselection_glyph\":{\"id\":\"1265\",\"type\":\"Scatter\"},\"selection_glyph\":null,\"view\":{\"id\":\"1268\",\"type\":\"CDSView\"}},\"id\":\"1267\",\"type\":\"GlyphRenderer\"},{\"attributes\":{\"axis_label\":\"Permeability (mD)\",\"bounds\":\"auto\",\"formatter\":{\"id\":\"1272\",\"type\":\"BasicTickFormatter\"},\"major_label_orientation\":\"horizontal\",\"plot\":{\"id\":\"1229\",\"subtype\":\"Figure\",\"type\":\"Plot\"},\"ticker\":{\"id\":\"1243\",\"type\":\"BasicTicker\"}},\"id\":\"1242\",\"type\":\"LinearAxis\"},{\"attributes\":{},\"id\":\"1243\",\"type\":\"BasicTicker\"},{\"attributes\":{\"fill_alpha\":{\"value\":0.1},\"fill_color\":{\"value\":\"#1f77b4\"},\"line_alpha\":{\"value\":0.1},\"line_color\":{\"value\":\"#1f77b4\"},\"size\":{\"units\":\"screen\",\"value\":5.477225575051661},\"x\":{\"field\":\"porosity\"},\"y\":{\"field\":\"permeability\"}},\"id\":\"1265\",\"type\":\"Scatter\"},{\"attributes\":{\"axis_label\":\"Porosity\",\"bounds\":\"auto\",\"formatter\":{\"id\":\"1270\",\"type\":\"BasicTickFormatter\"},\"major_label_orientation\":\"horizontal\",\"plot\":{\"id\":\"1229\",\"subtype\":\"Figure\",\"type\":\"Plot\"},\"ticker\":{\"id\":\"1238\",\"type\":\"BasicTicker\"}},\"id\":\"1237\",\"type\":\"LinearAxis\"},{\"attributes\":{},\"id\":\"1238\",\"type\":\"BasicTicker\"},{\"attributes\":{\"grid_line_color\":{\"value\":null},\"plot\":{\"id\":\"1229\",\"subtype\":\"Figure\",\"type\":\"Plot\"},\"ticker\":{\"id\":\"1238\",\"type\":\"BasicTicker\"}},\"id\":\"1241\",\"type\":\"Grid\"},{\"attributes\":{\"fill_color\":{\"value\":\"#1f77b4\"},\"line_color\":{\"value\":\"#1f77b4\"},\"size\":{\"units\":\"screen\",\"value\":5.477225575051661},\"x\":{\"field\":\"porosity\"},\"y\":{\"field\":\"permeability\"}},\"id\":\"1264\",\"type\":\"Scatter\"},{\"attributes\":{\"bottom_units\":\"screen\",\"fill_alpha\":{\"value\":0.5},\"fill_color\":{\"value\":\"lightgrey\"},\"left_units\":\"screen\",\"level\":\"overlay\",\"line_alpha\":{\"value\":1.0},\"line_color\":{\"value\":\"black\"},\"line_dash\":[4,4],\"line_width\":{\"value\":2},\"plot\":null,\"render_mode\":\"css\",\"right_units\":\"screen\",\"top_units\":\"screen\"},\"id\":\"1256\",\"type\":\"BoxAnnotation\"},{\"attributes\":{},\"id\":\"1233\",\"type\":\"LinearScale\"},{\"attributes\":{},\"id\":\"1249\",\"type\":\"WheelZoomTool\"},{\"attributes\":{},\"id\":\"1235\",\"type\":\"LinearScale\"},{\"attributes\":{},\"id\":\"1279\",\"type\":\"UnionRenderers\"},{\"attributes\":{\"overlay\":{\"id\":\"1256\",\"type\":\"BoxAnnotation\"}},\"id\":\"1250\",\"type\":\"BoxZoomTool\"},{\"attributes\":{\"plot\":null,\"text\":\"\",\"text_color\":{\"value\":\"black\"},\"text_font_size\":{\"value\":\"12pt\"}},\"id\":\"1228\",\"type\":\"Title\"},{\"attributes\":{},\"id\":\"1251\",\"type\":\"ResetTool\"},{\"attributes\":{},\"id\":\"1270\",\"type\":\"BasicTickFormatter\"},{\"attributes\":{\"callback\":null,\"renderers\":[{\"id\":\"1267\",\"type\":\"GlyphRenderer\"}],\"tooltips\":[[\"Porosity\",\"@{porosity}\"],[\"Permeability (mD)\",\"@{permeability}\"]]},\"id\":\"1227\",\"type\":\"HoverTool\"},{\"attributes\":{\"callback\":null,\"data\":{\"permeability\":{\"__ndarray__\":\"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\",\"dtype\":\"float64\",\"shape\":[384]},\"porosity\":{\"__ndarray__\":\"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\",\"dtype\":\"float64\",\"shape\":[384]}},\"selected\":{\"id\":\"1262\",\"type\":\"Selection\"},\"selection_policy\":{\"id\":\"1279\",\"type\":\"UnionRenderers\"}},\"id\":\"1261\",\"type\":\"ColumnDataSource\"},{\"attributes\":{\"callback\":null,\"end\":0.19899999999999998,\"reset_end\":0.19899999999999998,\"reset_start\":0.036000000000000004,\"start\":0.036000000000000004,\"tags\":[[[\"porosity\",\"Porosity\",null]]]},\"id\":\"1225\",\"type\":\"Range1d\"},{\"attributes\":{\"callback\":null,\"end\":289.44,\"reset_end\":289.44,\"reset_start\":5.3,\"start\":5.3,\"tags\":[[[\"permeability\",\"Permeability\",\"mD\"]]]},\"id\":\"1226\",\"type\":\"Range1d\"},{\"attributes\":{\"active_drag\":\"auto\",\"active_inspect\":\"auto\",\"active_multi\":null,\"active_scroll\":\"auto\",\"active_tap\":\"auto\",\"tools\":[{\"id\":\"1227\",\"type\":\"HoverTool\"},{\"id\":\"1247\",\"type\":\"SaveTool\"},{\"id\":\"1248\",\"type\":\"PanTool\"},{\"id\":\"1249\",\"type\":\"WheelZoomTool\"},{\"id\":\"1250\",\"type\":\"BoxZoomTool\"},{\"id\":\"1251\",\"type\":\"ResetTool\"}]},\"id\":\"1252\",\"type\":\"Toolbar\"}],\"root_ids\":[\"1229\"]},\"title\":\"Bokeh Application\",\"version\":\"1.0.4\"}};\n",
       "  var render_items = [{\"docid\":\"5ae9b09d-50dc-45d6-89bf-c08b94fe1286\",\"roots\":{\"1229\":\"47dadd33-e07c-4df5-9388-f4e8a8aac969\"}}];\n",
       "  root.Bokeh.embed.embed_items_notebook(docs_json, render_items);\n",
       "\n",
       "  }\n",
       "  if (root.Bokeh !== undefined) {\n",
       "    embed_document(root);\n",
       "  } else {\n",
       "    var attempts = 0;\n",
       "    var timer = setInterval(function(root) {\n",
       "      if (root.Bokeh !== undefined) {\n",
       "        embed_document(root);\n",
       "        clearInterval(timer);\n",
       "      }\n",
       "      attempts++;\n",
       "      if (attempts > 100) {\n",
       "        console.log(\"Bokeh: ERROR: Unable to run BokehJS code because BokehJS library is missing\");\n",
       "        clearInterval(timer);\n",
       "      }\n",
       "    }, 10, root)\n",
       "  }\n",
       "})(window);"
      ],
      "application/vnd.holoviews_exec.v0+json": "",
      "text/html": [
       "<div id='1229' style='display: table; margin: 0 auto;'>\n",
       "\n",
       "\n",
       "\n",
       "\n",
       "\n",
       "  <div class=\"bk-root\" id=\"47dadd33-e07c-4df5-9388-f4e8a8aac969\" data-root-id=\"1229\"></div>\n",
       "</div>"
      ],
      "text/plain": [
       ":Scatter   [porosity]   (permeability)"
      ]
     },
     "execution_count": 17,
     "metadata": {
      "application/vnd.holoviews_exec.v0+json": {
       "id": "1229"
      }
     },
     "output_type": "execute_result"
    }
   ],
   "source": [
    "cat.poro_perm.plot.my_scatter()"
   ]
  },
  {
   "cell_type": "markdown",
   "metadata": {
    "slideshow": {
     "slide_type": "slide"
    }
   },
   "source": [
    "# Persisting Data"
   ]
  },
  {
   "cell_type": "markdown",
   "metadata": {
    "slideshow": {
     "slide_type": "skip"
    }
   },
   "source": [
    "Calling the method `.persist()` on a data source will create a local copy in a storage format that is most suitable to the container.  This is useful for large queries across networks or when working with big datasets (assuming you have the local hard drive storage capacity).  Once the data has been persisted, it will load much faster in subsequent calls.  This can be demonstrated by using the Jupyter notebooks `%%timeit` magic function."
   ]
  },
  {
   "cell_type": "code",
   "execution_count": 20,
   "metadata": {
    "slideshow": {
     "slide_type": "-"
    }
   },
   "outputs": [
    {
     "name": "stdout",
     "output_type": "stream",
     "text": [
      "1.32 s ± 10.3 ms per loop (mean ± std. dev. of 7 runs, 1 loop each)\n"
     ]
    }
   ],
   "source": [
    "%timeit df = cat.production_by_api(api='33007000110000', persist='never').read()"
   ]
  },
  {
   "cell_type": "markdown",
   "metadata": {
    "slideshow": {
     "slide_type": "fragment"
    }
   },
   "source": [
    "To create a local copy, just call the method `.persist()`\n",
    "\n",
    "```python\n",
    "cat.production_by_api(api='33007000110000').persist()\n",
    "```"
   ]
  },
  {
   "cell_type": "code",
   "execution_count": 21,
   "metadata": {
    "slideshow": {
     "slide_type": "fragment"
    }
   },
   "outputs": [
    {
     "name": "stdout",
     "output_type": "stream",
     "text": [
      "29.4 ms ± 4.88 ms per loop (mean ± std. dev. of 7 runs, 10 loops each)\n"
     ]
    }
   ],
   "source": [
    "%timeit df = cat.production_by_api(api='33007000110000').read()"
   ]
  },
  {
   "cell_type": "code",
   "execution_count": 5,
   "metadata": {
    "hide_input": true,
    "init_cell": true,
    "javascript_last_cell": true
   },
   "outputs": [
    {
     "data": {
      "application/javascript": [
       "function hideElements(elements, start) {\n",
       "for(var i = 0, length = elements.length; i < length;i++) {\n",
       "    if(i >= start) {\n",
       "        elements[i].style.display = \"none\";\n",
       "    }\n",
       "}\n",
       "}\n",
       "var prompt_elements = document.getElementsByClassName(\"prompt\");\n",
       "hideElements(prompt_elements, 0)\n"
      ],
      "text/plain": [
       "<IPython.core.display.Javascript object>"
      ]
     },
     "metadata": {},
     "output_type": "display_data"
    }
   ],
   "source": [
    "%%javascript\n",
    "function hideElements(elements, start) {\n",
    "for(var i = 0, length = elements.length; i < length;i++) {\n",
    "    if(i >= start) {\n",
    "        elements[i].style.display = \"none\";\n",
    "    }\n",
    "}\n",
    "}\n",
    "var prompt_elements = document.getElementsByClassName(\"prompt\");\n",
    "hideElements(prompt_elements, 0)"
   ]
  }
 ],
 "metadata": {
  "celltoolbar": "Slideshow",
  "kernelspec": {
   "display_name": "Python 3",
   "language": "python",
   "name": "python3"
  },
  "language_info": {
   "codemirror_mode": {
    "name": "ipython",
    "version": 3
   },
   "file_extension": ".py",
   "mimetype": "text/x-python",
   "name": "python",
   "nbconvert_exporter": "python",
   "pygments_lexer": "ipython3",
   "version": "3.6.8"
  },
  "rise": {
   "auto_select": null,
   "autolaunch": false,
   "controls": true,
   "enable_chalkboard": false,
   "footer": "<img src='images/daytum.png' width='220'>",
   "progress": true,
   "scroll": true,
   "slideNumber": false,
   "theme": "simple"
  }
 },
 "nbformat": 4,
 "nbformat_minor": 2
}
