{
 "cells": [
  {
   "cell_type": "markdown",
   "metadata": {},
   "source": [
    "# Intake Exercise\n",
    "\n",
    "Complete the function below using Intake to return the latitude and longitude of a well given by its API number."
   ]
  },
  {
   "cell_type": "code",
   "execution_count": 18,
   "metadata": {},
   "outputs": [],
   "source": [
    "from intake import cat\n",
    "\n",
    "def get_well_latitude_and_longitude_by_api(api='42003368340000'):\n",
    "    \n",
    "    #Uncomment the line below and add the Intake code to get a well's latitude and longitude \n",
    "    #from a given API number.  The data source will return a Panda's dataframe, therefore the code to\n",
    "    #extract only the latitude and longitude values has been added below.\n",
    "    #df = \n",
    "    \n",
    "    lat = float(df['latitude_surface_hole'].values)\n",
    "    long = float(df['longitude_surface_hole'].values)\n",
    "    \n",
    "    return lat, long"
   ]
  }
 ],
 "metadata": {
  "kernelspec": {
   "display_name": "Python 3",
   "language": "python",
   "name": "python3"
  },
  "language_info": {
   "codemirror_mode": {
    "name": "ipython",
    "version": 3
   },
   "file_extension": ".py",
   "mimetype": "text/x-python",
   "name": "python",
   "nbconvert_exporter": "python",
   "pygments_lexer": "ipython3",
   "version": "3.6.8"
  }
 },
 "nbformat": 4,
 "nbformat_minor": 2
}
